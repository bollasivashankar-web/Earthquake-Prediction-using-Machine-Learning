{
 "cells": [
  {
   "cell_type": "code",
   "execution_count": 2,
   "id": "a8cbe351",
   "metadata": {},
   "outputs": [
    {
     "name": "stdout",
     "output_type": "stream",
     "text": [
      "[[29.06 77.42  5.    2.5 ]\n",
      " [19.93 72.92  5.    2.4 ]\n",
      " [31.5  74.37 33.    3.4 ]\n",
      " ...\n",
      " [22.5  88.1  10.    3.6 ]\n",
      " [24.6  94.2  54.    3.5 ]\n",
      " [14.5  92.9  10.    4.6 ]]\n"
     ]
    },
    {
     "ename": "NameError",
     "evalue": "name 'random_forest_classifier' is not defined",
     "output_type": "error",
     "traceback": [
      "\u001b[1;31m---------------------------------------------------------------------------\u001b[0m",
      "\u001b[1;31mNameError\u001b[0m                                 Traceback (most recent call last)",
      "Cell \u001b[1;32mIn[2], line 18\u001b[0m\n\u001b[0;32m     16\u001b[0m x_train, x_test, y_train, y_test \u001b[38;5;241m=\u001b[39m train_test_split(x_set, y_set, test_size\u001b[38;5;241m=\u001b[39m\u001b[38;5;241m0.2\u001b[39m, random_state\u001b[38;5;241m=\u001b[39m\u001b[38;5;241m0\u001b[39m)\n\u001b[0;32m     17\u001b[0m Random_forest_classifier \u001b[38;5;241m=\u001b[39m RandomForestClassifier()\n\u001b[1;32m---> 18\u001b[0m \u001b[43mrandom_forest_classifier\u001b[49m\u001b[38;5;241m.\u001b[39mfit(x_train, y_train)\n\u001b[0;32m     19\u001b[0m y_pred \u001b[38;5;241m=\u001b[39m random_forest_classifier\u001b[38;5;241m.\u001b[39mpredict(X_test)\n\u001b[0;32m     21\u001b[0m \u001b[38;5;28mprint\u001b[39m(metrics\u001b[38;5;241m.\u001b[39maccuracy_score(y_test, y_pred))\n",
      "\u001b[1;31mNameError\u001b[0m: name 'random_forest_classifier' is not defined"
     ]
    }
   ],
   "source": [
    "import numpy as np\n",
    "import pandas as pd\n",
    "from sklearn.model_selection import train_test_split\n",
    "import pickle \n",
    "from sklearn import metrics \n",
    "from sklearn.ensemble import RandomForestClassifier\n",
    "dataframe= pd.read_csv(\"dataset.csv\")\n",
    " \n",
    "dataframe= np.array(dataframe)\n",
    "print(dataframe)\n",
    "x_set = dataframe[:, 0:-1]\n",
    "y_set = dataframe[:, -1]\n",
    "y_set = y_set.astype('int')\n",
    "x_set = x_set.astype('int')\n",
    " \n",
    "x_train, x_test, y_train, y_test = train_test_split(x_set, y_set, test_size=0.2, random_state=0)\n",
    "Random_forest_classifier = RandomForestClassifier()\n",
    "random_forest_classifier.fit(x_train, y_train)\n",
    "y_pred = random_forest_classifier.predict(X_test)\n",
    " \n",
    "print(metrics.accuracy_score(y_test, y_pred))\n",
    "tree = GradientBoostingClassifier()\n",
    "clf = tree.fit(X_train,y_train) \n",
    "y_pred = clf.predict(X_test)\n",
    "accuracy_score(y_pred,y_test)\n",
    "tree = SVC(gamma='auto')\n",
    "clf = tree.fit(X_train,y_train)\n",
    "y_pred = clf.predict(X_test) \n",
    "accuracy_score(y_pred,y_test)"
   ]
  },
  {
   "cell_type": "code",
   "execution_count": null,
   "id": "46171c6c",
   "metadata": {},
   "outputs": [],
   "source": []
  }
 ],
 "metadata": {
  "kernelspec": {
   "display_name": "Python 3 (ipykernel)",
   "language": "python",
   "name": "python3"
  },
  "language_info": {
   "codemirror_mode": {
    "name": "ipython",
    "version": 3
   },
   "file_extension": ".py",
   "mimetype": "text/x-python",
   "name": "python",
   "nbconvert_exporter": "python",
   "pygments_lexer": "ipython3",
   "version": "3.11.4"
  }
 },
 "nbformat": 4,
 "nbformat_minor": 5
}

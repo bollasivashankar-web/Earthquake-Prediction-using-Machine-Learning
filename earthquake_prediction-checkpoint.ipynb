{
 "cells": [
  {
   "cell_type": "code",
   "execution_count": 1,
   "id": "9edc9548",
   "metadata": {},
   "outputs": [
    {
     "name": "stdout",
     "output_type": "stream",
     "text": [
      "[[29.06 77.42  5.    2.5 ]\n",
      " [19.93 72.92  5.    2.4 ]\n",
      " [31.5  74.37 33.    3.4 ]\n",
      " ...\n",
      " [22.5  88.1  10.    3.6 ]\n",
      " [24.6  94.2  54.    3.5 ]\n",
      " [14.5  92.9  10.    4.6 ]]\n",
      "[[ 22  94  10]\n",
      " [ 27  75   5]\n",
      " [ 34  76  10]\n",
      " ...\n",
      " [ 31  76   5]\n",
      " [ 23  70  10]\n",
      " [ 37  72 125]] [4 2 2 ... 3 4 4]\n",
      "0.5643382352941176\n"
     ]
    }
   ],
   "source": [
    "import numpy as np\n",
    "import pandas as pd\n",
    "from sklearn.model_selection import train_test_split\n",
    "import pickle\n",
    "from sklearn import metrics\n",
    "from sklearn.ensemble import RandomForestClassifier\n",
    "\n",
    "\n",
    "data = pd.read_csv(\"dataset.csv\")\n",
    "\n",
    "data = np.array(data)\n",
    "print(data)\n",
    "X = data[:, 0:-1]\n",
    "y = data[:, -1]\n",
    "y = y.astype('int')\n",
    "X = X.astype('int')\n",
    "\n",
    "X_train, X_test, y_train, y_test = train_test_split(X, y, test_size=0.2, random_state=0)\n",
    "\n",
    "print(X_train,y_train)\n",
    "rfc = RandomForestClassifier()\n",
    "rfc.fit(X_train, y_train)\n",
    "y_pred = rfc.predict(X_test)\n",
    "\n",
    "print(metrics.accuracy_score(y_test, y_pred))"
   ]
  },
  {
   "cell_type": "code",
   "execution_count": null,
   "id": "4a93f095",
   "metadata": {},
   "outputs": [],
   "source": []
  },
  {
   "cell_type": "code",
   "execution_count": null,
   "id": "3f9e30ac",
   "metadata": {},
   "outputs": [],
   "source": []
  }
 ],
 "metadata": {
  "kernelspec": {
   "display_name": "Python 3 (ipykernel)",
   "language": "python",
   "name": "python3"
  },
  "language_info": {
   "codemirror_mode": {
    "name": "ipython",
    "version": 3
   },
   "file_extension": ".py",
   "mimetype": "text/x-python",
   "name": "python",
   "nbconvert_exporter": "python",
   "pygments_lexer": "ipython3",
   "version": "3.11.4"
  }
 },
 "nbformat": 4,
 "nbformat_minor": 5
}
